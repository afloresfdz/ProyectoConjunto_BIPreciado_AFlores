{
 "cells": [
  {
   "cell_type": "markdown",
   "metadata": {},
   "source": [
    "<img style=\"float: left; margin: 30px 15px 15px 15px;\" src=\"https://pngimage.net/wp-content/uploads/2018/06/logo-iteso-png-5.png\" width=\"300\" height=\"500\" /> \n",
    "    \n",
    "    \n",
    "### <font color='navy'> Simulación de procesos financieros. \n",
    "\n",
    "**Nombres:** Berlín Isabel Preciado Escalera y Andrea Flores\n",
    "\n",
    "**Fecha:** 12 de octubre del 2021\n",
    "\n",
    "**Expediente** :723259 \n",
    "\n",
    "**Profesor:** Oscar David Jaramillo Zuluaga.\n",
    "    \n",
    "**Link Github**: https://github.com/berlinpreciado21/ProyectoConjunto_BIPreciado_AFlores\n",
    "\n",
    "# Tarea 5\n",
    "    "
   ]
  },
  {
   "cell_type": "markdown",
   "metadata": {},
   "source": [
    "   \n",
    "> Para las siguiente dos funciones, genere muestres aleatorias que distribuyan según la función dada usando el método de la transformada inversa y grafique el histograma de 1000 muestras generadas con el método de la transformada inversa y compárela con el función $f(x)$ **(recuerde que $f(x)$ es la distribución de probabilidad y $F(x)$ es la distribución de probabilidad acumulada)** [ver este enlace para más información](https://es.wikipedia.org/wiki/Funci%C3%B3n_de_distribuci%C3%B3n). Este procedimiento se realiza con el fín de validar que el procedimiento y los resultados son correctos.\n",
    "    \n",
    "> 1. Generación variable aleatoria continua\n",
    ">El tiempo en el cual un movimiento browniano se mantiene sobre su punto máximo en el intervalo [0,1] tiene una distribución\n",
    ">$$F(x)=\\frac{2}{\\pi}\\sin^{-1}(\\sqrt x),\\quad 0\\leq x\\leq 1$$ </font>\n",
    "\n"
   ]
  },
  {
   "cell_type": "markdown",
   "metadata": {},
   "source": [
    "## Estudiante Berlin"
   ]
  },
  {
   "cell_type": "code",
   "execution_count": 2,
   "metadata": {},
   "outputs": [],
   "source": [
    "#Librerías:\n",
    "###Se importan librerías\n",
    "import numpy as np\n",
    "import matplotlib.pyplot as plt\n",
    "import seaborn as sns; sns.set()\n",
    "import scipy"
   ]
  },
  {
   "cell_type": "markdown",
   "metadata": {},
   "source": [
    ">Despeje de F(x) para conocer x e igualando a u (inversa):\n",
    ">$$ u = F(x)=\\frac{2}{\\pi}\\sin^{-1}(\\sqrt x) = \\sin^{-1}(\\sqrt x)= \\frac{\\pi u}{2} \\sqrt x = \\sin(\\frac{\\pi u}{2})$$ \n",
    "$$\\sin^{-1}(\\sqrt x)= \\sin(\\frac{\\pi u}{2})$$\n",
    "entonces $$x = \\sin^{2}(\\frac{\\pi u}{2})$$ que fue lo utilizado en la función movimiento Browniano.\n",
    ">Como cuando se tiene la función $f(x)$ y requerimos calcular F(x) se integra entonces se hace lo opuesto que es derivar, para conocer f(x) a partir de $F(x)$:\n",
    "> $$f(x) = \\frac{d}{dx}(\\frac{2}{\\pi}\\sin^{-1}(\\sqrt x))=\\frac{2}{\\pi} \\frac{d}{dx}(\\sin^{-1}(\\sqrt x))=\\frac{d}{dx}(\\frac{2}{\\pi}\\sin^{-1}(\\sqrt x))$$ \n",
    ">Respuesta para f(x) : $$f(x)=\\frac{1}{\\pi\\sqrt{1-x}\\sqrt{x}}$$\n"
   ]
  },
  {
   "cell_type": "code",
   "execution_count": 4,
   "metadata": {},
   "outputs": [],
   "source": [
    "### Está función retorna la función de distribución acumulada\n",
    "def D_browniano(N:\"Número de muestras\"):\n",
    "    \"Inversa de la función de distribución F(x)=\\frac{2}{\\pi}\\sin^{-1}(\\sqrt x),\\quad 0\\leq x\\leq 1$\"\n",
    "    return np.sin((np.random.rand(N)*np.pi)/2)**2###Hacemos la función inversa\n",
    "f_x = lambda x: 1/(np.pi*np.sqrt(1-x)*np.sqrt(x))###Función de distribución f(x) obtenida de la derivada planteada"
   ]
  },
  {
   "cell_type": "code",
   "execution_count": 17,
   "metadata": {},
   "outputs": [
    {
     "name": "stdout",
     "output_type": "stream",
     "text": [
      "0.5073995436422629\n"
     ]
    },
    {
     "data": {
      "image/png": "[encoded data removed]",
      "text/plain": [
       "<Figure size 504x360 with 1 Axes>"
      ]
     },
     "metadata": {},
     "output_type": "display_data"
    }
   ],
   "source": [
    "N = 1000 ###Número de aleatorios que se pasaran por argumento a la función de distribución acumulada\n",
    "x = D_browniano(N) ###Se llama a la función\n",
    "x_ = np.arange(0.01,1,0.01)###Se crea un vector que se pasará por argumento de la función de distribución f(x)\n",
    "###Se hace el histograma y se plotea la función de distribución como comparación\n",
    "plt.figure(figsize=[7,5])\n",
    "plt.hist(x,bins=50,density=True,color='g',label='Distribución movimiento browniano ')\n",
    "plt.plot(x_,f_x(x_),color='b',lw=2.5,label=\"f (x)\")\n",
    "plt.xlabel('Valores aleatorios',fontsize=14)\n",
    "plt.ylabel('Probabilidad',fontsize=14)\n",
    "plt.title('Histograma ', fontsize=17)\n",
    "plt.legend();\n",
    "print(np.mean(x))\n",
    "plt.show()"
   ]
  },
  {
   "cell_type": "markdown",
   "metadata": {},
   "source": [
    "> 2. Generación variable aleatoria Discreta\n",
    "> La distribución binomial modela el número de éxitos de n ensayos independientes donde hay una probabilidad p de éxito en cada ensayo.\n",
    "> Generar una variable aletoria binomial con parámetros $n=10$ y $p=0.7$. Recordar que $$X\\sim binomial(n,p) \\longrightarrow p_i=P(X=i)=\\frac{n!}{i!(n-i)!}p^i(1-p)^{n-i},\\quad i=0,1,\\cdots,n$$\n",
    "> Por propiedades de la operación factorial la anterior $p_i$ se puede escribir como:\n",
    "> $$p_{i+1}=\\frac{n-i}{i+1}\\frac{p}{1-p} p_i $$\n",
    "\n",
    "> **Nota:** Por notación recuerde que para el caso continuo $f(x)$ es la distribución de probabilidad (PDF), mientras $F(x)$ corresponde a la distribución de probabilidad acumulada (CDF). Para el caso discreto, $P(X=i)$ corresponde a su distribución de probabilidad (PMF) y $ F_{X}(x)=\\operatorname {P} (X\\leq x)=\\sum _{x_{i}\\leq x}\\operatorname {P} (X=x_{i})=\\sum _{x_{i}\\leq x}p(x_{i})$, corresponde a su distribución de probabilidad acumulada (CDF)."
   ]
  },
  {
   "cell_type": "code",
   "execution_count": 18,
   "metadata": {},
   "outputs": [],
   "source": [
    "###Se hace una función de distribución acumulada\n",
    "def d_binomial(n:\"Parámetro n\",p:\"Parametro p\"):\n",
    "    \"Está función genera la distribución binomial acumulada\"\n",
    "    vector = np.zeros(n) \n",
    "    vector[0] = (1-p)**n \n",
    "    def llenar_vector(i): \n",
    "        nonlocal vector \n",
    "        vector[i+1] = ((n-i)/(i+1))*((p)/(1-p))*vector[i] \n",
    "\n",
    "    [llenar_vector(i) for i in range(n-1)] \n",
    "    return np.cumsum(vector)"
   ]
  },
  {
   "cell_type": "code",
   "execution_count": 19,
   "metadata": {},
   "outputs": [],
   "source": [
    "def Gen_distr_discreta(p_acum: 'P.Acumulada de la distribución a generar',\n",
    "                       N: 'cantidad de números aleatorios a generar'):\n",
    "    \"Genera una distribución discreta a partir de una distribución acumulada\"\n",
    "    U =np.random.rand(N)\n",
    "    v = [sum([1 for p in p_acum if p < ui ])  for ui in U]\n",
    "    return v\n",
    "def plot_histogram_discrete(distribucion:'distribución a graficar histograma',\n",
    "                            label:'label del legend'):\n",
    "    plt.figure(figsize=[8,4])\n",
    "    y,x = np.histogram(distribucion,bins = len(set(distribucion))) \n",
    "    plt.bar(list(set(distribucion)),y,label=label)\n",
    "    plt.legend()\n",
    "    plt.show()"
   ]
  },
  {
   "cell_type": "code",
   "execution_count": 20,
   "metadata": {},
   "outputs": [
    {
     "data": {
      "text/plain": [
       "<Figure size 576x432 with 0 Axes>"
      ]
     },
     "metadata": {},
     "output_type": "display_data"
    },
    {
     "data": {
      "image/png": "[encoded data removed]",
      "text/plain": [
       "<Figure size 576x288 with 1 Axes>"
      ]
     },
     "metadata": {},
     "output_type": "display_data"
    }
   ],
   "source": [
    "n,p = 10 ,0.7\n",
    "p_acum = d_binomial(n,p)\n",
    "N = 1000 \n",
    "distribucion = Gen_distr_discreta(p_acum,N) \n",
    "plt.figure(figsize=[8,6])\n",
    "plot_histogram_discrete(distribucion,\"Distribución con función propia\")"
   ]
  },
  {
   "cell_type": "code",
   "execution_count": null,
   "metadata": {},
   "outputs": [],
   "source": []
  }
 ],
 "metadata": {
  "kernelspec": {
   "display_name": "Python 3",
   "language": "python",
   "name": "python3"
  },
  "language_info": {
   "codemirror_mode": {
    "name": "ipython",
    "version": 3
   },
   "file_extension": ".py",
   "mimetype": "text/x-python",
   "name": "python",
   "nbconvert_exporter": "python",
   "pygments_lexer": "ipython3",
   "version": "3.8.3"
  }
 },
 "nbformat": 4,
 "nbformat_minor": 4
}
